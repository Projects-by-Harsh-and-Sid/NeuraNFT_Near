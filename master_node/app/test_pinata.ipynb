{
 "cells": [
  {
   "cell_type": "code",
   "execution_count": 2,
   "metadata": {},
   "outputs": [],
   "source": [
    "import requests\n",
    "\n",
    "# Test file upload\n",
    "def test_upload():\n",
    "    url = 'http://localhost:5500/upload'\n",
    "    \n",
    "    with open('test.png', 'rb') as f:\n",
    "        files = {'image': f}\n",
    "        response = requests.post(url, files=files)\n",
    "        \n",
    "        print(\"Upload Response:\", response.json())\n",
    "        return response.json()\n",
    "\n",
    "# Test file retrieval        \n",
    "def test_get_file(file_id):\n",
    "    url = f'http://localhost:5500/image/{file_id}'\n",
    "    response = requests.get(url)\n",
    "    print(\"File Info:\", response.json())\n",
    "\n",
    "# Test PDF upload\n",
    "def test_pdf_upload():\n",
    "    url = 'http://localhost:5500/convertpdfToLink'\n",
    "    \n",
    "    with open('test.pdf', 'rb') as f:\n",
    "        files = {'file': f}\n",
    "        response = requests.post(url, files=files)\n",
    "        \n",
    "        print(\"PDF Upload Response:\", response.json())\n"
   ]
  },
  {
   "cell_type": "code",
   "execution_count": 4,
   "metadata": {},
   "outputs": [
    {
     "name": "stdout",
     "output_type": "stream",
     "text": [
      "PDF Upload Response: {'data': {'cid': 'bafybeiavnqo7zkubemgc5szmdwkh4vy324elesudhptq44lh3caotjnfvm', 'created_at': '2024-11-08T14:32:06.307Z', 'id': '01930c30-70a1-79a6-aefd-632ebf68afab', 'mime_type': 'application/pdf', 'name': 'file', 'number_of_files': 1, 'size': 937562, 'user_id': 'a0e85e82-5f18-4aef-8373-d12a9cc1bf72'}}\n"
     ]
    }
   ],
   "source": [
    "test_pdf_upload()"
   ]
  },
  {
   "cell_type": "code",
   "execution_count": 5,
   "metadata": {},
   "outputs": [
    {
     "name": "stdout",
     "output_type": "stream",
     "text": [
      "File Info: {'data': 'https://salmon-payable-mastodon-183.mypinata.cloud/files/bafybeiavnqo7zkubemgc5szmdwkh4vy324elesudhptq44lh3caotjnfvm?X-Algorithm=PINATA1&X-Date=1724875300&X-Expires=10000000&X-Method=GET&X-Signature=314c23c053c1019117c288a9abc31fb4494240ecacb26c5a28fe533699723e73'}\n"
     ]
    }
   ],
   "source": [
    "test_get_file('bafybeiavnqo7zkubemgc5szmdwkh4vy324elesudhptq44lh3caotjnfvm')"
   ]
  },
  {
   "cell_type": "code",
   "execution_count": null,
   "metadata": {},
   "outputs": [],
   "source": []
  }
 ],
 "metadata": {
  "kernelspec": {
   "display_name": "langchain",
   "language": "python",
   "name": "python3"
  },
  "language_info": {
   "codemirror_mode": {
    "name": "ipython",
    "version": 3
   },
   "file_extension": ".py",
   "mimetype": "text/x-python",
   "name": "python",
   "nbconvert_exporter": "python",
   "pygments_lexer": "ipython3",
   "version": "3.12.4"
  }
 },
 "nbformat": 4,
 "nbformat_minor": 2
}
